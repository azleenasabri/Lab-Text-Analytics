{
 "cells": [
  {
   "cell_type": "code",
   "execution_count": 4,
   "id": "1e379dd4-c154-4a39-a6f8-85b45db23ddf",
   "metadata": {},
   "outputs": [],
   "source": [
    "import re"
   ]
  },
  {
   "cell_type": "code",
   "execution_count": 27,
   "id": "5f2db0b3-40ea-44d4-a414-bee0ceae221f",
   "metadata": {},
   "outputs": [],
   "source": [
    "# A) Metacharacter '.'\n",
    "# find any characters in a string (including spaces) except new line"
   ]
  },
  {
   "cell_type": "code",
   "execution_count": 10,
   "id": "7fc5a877-40ea-4bea-8ae0-95855508b186",
   "metadata": {},
   "outputs": [
    {
     "name": "stdout",
     "output_type": "stream",
     "text": [
      "['I', ' ', 'a', 'm', ' ', 'l', 'e', 'a', 'r', 'n', 'i', 'n', 'g', ' ', 't', 'e', 'x', 't', ' ', 'a', 'n', 'a', 'l', 'y', 't', 'i', 'c', 's']\n"
     ]
    }
   ],
   "source": [
    "sentence1 = re.findall (r'.', 'I am learning text analytics') \n",
    "print (sentence1) \n",
    " \n",
    "# Each letter is selected including spaces except new line\n"
   ]
  },
  {
   "cell_type": "code",
   "execution_count": null,
   "id": "b9a10c35-c334-4ade-8689-a957a0dba43e",
   "metadata": {},
   "outputs": [],
   "source": []
  },
  {
   "cell_type": "code",
   "execution_count": 28,
   "id": "53102ad6-3e70-4662-8397-e59b06414ea7",
   "metadata": {},
   "outputs": [],
   "source": [
    "# B) Metacharacter '\\w'\n",
    "# Find any single character in a string (exclude spaces) except new line and spaces"
   ]
  },
  {
   "cell_type": "code",
   "execution_count": 11,
   "id": "91fe18d2-b42e-4837-92d6-bcc14079785d",
   "metadata": {},
   "outputs": [
    {
     "name": "stdout",
     "output_type": "stream",
     "text": [
      "['I', 'a', 'm', 'l', 'e', 'a', 'r', 'n', 'i', 'n', 'g', 't', 'e', 'x', 't', 'a', 'n', 'a', 'l', 'y', 't', 'i', 'c', 's']\n"
     ]
    }
   ],
   "source": [
    "sentence2 = re.findall (r'\\w', 'I am learning text analytics') \n",
    "print (sentence2) \n",
    " \n",
    "# Each letter is selected excluding spaces except new line\n"
   ]
  },
  {
   "cell_type": "code",
   "execution_count": null,
   "id": "040b316a-816d-4afa-b6c3-c3e187946a30",
   "metadata": {},
   "outputs": [],
   "source": []
  },
  {
   "cell_type": "code",
   "execution_count": 29,
   "id": "8d3128b0-e767-4bf8-a489-177adaffa944",
   "metadata": {},
   "outputs": [],
   "source": [
    "# C) Metacharacter '\\w*'\n",
    "# Matches any characters with zero (0) or more characters in a string including spaces"
   ]
  },
  {
   "cell_type": "code",
   "execution_count": 15,
   "id": "27aad528-c491-4659-8f74-e94826d7c383",
   "metadata": {},
   "outputs": [
    {
     "name": "stdout",
     "output_type": "stream",
     "text": [
      "['I', '', 'am', '', 'learning', '', 'text', '', 'analytics', '']\n"
     ]
    }
   ],
   "source": [
    "sentence3 = re.findall (r'\\w*', 'I am learning text analytics') \n",
    "print (sentence3) \n",
    " \n",
    "# Each word is selected including spaces \n"
   ]
  },
  {
   "cell_type": "code",
   "execution_count": null,
   "id": "0b1f9306-f937-4203-99a7-f28454957082",
   "metadata": {},
   "outputs": [],
   "source": []
  },
  {
   "cell_type": "code",
   "execution_count": 30,
   "id": "4f90dbbe-ffe9-49c3-a4c4-87ae58492875",
   "metadata": {},
   "outputs": [],
   "source": [
    "# D) Metacharacter '\\w+'\n",
    "# Matches one (1) or more characters in a string excluding spaces"
   ]
  },
  {
   "cell_type": "code",
   "execution_count": 17,
   "id": "5abfc300-a3e5-4f02-8507-92186c9d0067",
   "metadata": {},
   "outputs": [
    {
     "name": "stdout",
     "output_type": "stream",
     "text": [
      "['I', 'am', 'learning', 'text', 'analytics']\n"
     ]
    }
   ],
   "source": [
    "sentence4 = re.findall (r'\\w+', 'I am learning text analytics') \n",
    "print (sentence4) \n",
    " \n",
    "# Each word is selected excluding spaces \n"
   ]
  },
  {
   "cell_type": "code",
   "execution_count": null,
   "id": "7ca12655-0e99-4706-bd8a-ccf3fe4b47c1",
   "metadata": {},
   "outputs": [],
   "source": []
  },
  {
   "cell_type": "code",
   "execution_count": 31,
   "id": "a8f6f722-79c9-4998-9b40-627acd976f43",
   "metadata": {},
   "outputs": [],
   "source": [
    "# E) Metacharacter '^\\w+'\n",
    "# Find the first word in a string"
   ]
  },
  {
   "cell_type": "code",
   "execution_count": 19,
   "id": "08075d83-dde6-4590-8002-afc58f185597",
   "metadata": {},
   "outputs": [
    {
     "name": "stdout",
     "output_type": "stream",
     "text": [
      "['I']\n"
     ]
    }
   ],
   "source": [
    "sentence5 = re.findall (r'^\\w+', 'I am learning text analytics') \n",
    "print (sentence5) \n",
    " \n",
    "# First word is selected  \n"
   ]
  },
  {
   "cell_type": "code",
   "execution_count": null,
   "id": "721ad220-131b-46cf-bf7f-f2714a0a1196",
   "metadata": {},
   "outputs": [],
   "source": []
  },
  {
   "cell_type": "code",
   "execution_count": 32,
   "id": "40e1d96a-befa-440b-879d-d61dd760bd29",
   "metadata": {},
   "outputs": [],
   "source": [
    "# F) Metacharacter '\\w+$'\n",
    "# Find the last word in a string"
   ]
  },
  {
   "cell_type": "code",
   "execution_count": 21,
   "id": "18c3bf4c-0fed-4166-827d-b058556004a3",
   "metadata": {},
   "outputs": [
    {
     "name": "stdout",
     "output_type": "stream",
     "text": [
      "['analytics']\n"
     ]
    }
   ],
   "source": [
    "sentence6 = re.findall (r'\\w+$', 'I am learning text analytics') \n",
    "print (sentence6) \n",
    " \n",
    "# Last word is selected  \n"
   ]
  },
  {
   "cell_type": "code",
   "execution_count": null,
   "id": "e117b798-20d6-4a15-ad65-1ffc6f35ee83",
   "metadata": {},
   "outputs": [],
   "source": []
  },
  {
   "cell_type": "code",
   "execution_count": 33,
   "id": "c6d605f4-9896-48b0-af76-f00c17b720eb",
   "metadata": {},
   "outputs": [],
   "source": [
    "# G) Metacharacter '\\w\\w'\n",
    "# Find any two (2) cosecutive characters"
   ]
  },
  {
   "cell_type": "code",
   "execution_count": 24,
   "id": "0649249f-d0ed-439e-9676-caa2bb7f78df",
   "metadata": {},
   "outputs": [
    {
     "name": "stdout",
     "output_type": "stream",
     "text": [
      "['am', 'le', 'ar', 'ni', 'ng', 'te', 'xt', 'an', 'al', 'yt', 'ic']\n"
     ]
    }
   ],
   "source": [
    "sentence7 = re.findall (r'\\w\\w', 'I am learning text analytics') \n",
    "print (sentence7) \n",
    " \n",
    "# 2 consecutive characters are selected \n"
   ]
  },
  {
   "cell_type": "code",
   "execution_count": null,
   "id": "7f0ce35b-4754-4a67-a05f-85631d507461",
   "metadata": {},
   "outputs": [],
   "source": []
  },
  {
   "cell_type": "code",
   "execution_count": 34,
   "id": "5f33e944-5035-4a3b-889c-0e12c684cc4b",
   "metadata": {},
   "outputs": [],
   "source": [
    "# H) Metacharacter '\\b\\w\\w'\n",
    "# Find two (2) consecutive characters in a string"
   ]
  },
  {
   "cell_type": "code",
   "execution_count": 26,
   "id": "8c3d176c-8997-44e2-b38a-4689b435ec6e",
   "metadata": {},
   "outputs": [
    {
     "name": "stdout",
     "output_type": "stream",
     "text": [
      "['am', 'le', 'te', 'an']\n"
     ]
    }
   ],
   "source": [
    "sentence8 = re.findall (r'\\b\\w\\w', 'I am learning text analytics') \n",
    "print (sentence8) \n",
    " \n",
    "# 2 consecutive characters in a string are selected \n"
   ]
  },
  {
   "cell_type": "code",
   "execution_count": null,
   "id": "7ea90e86-423c-4c4e-80a8-2d9271f0275c",
   "metadata": {},
   "outputs": [],
   "source": []
  },
  {
   "cell_type": "code",
   "execution_count": null,
   "id": "7d7149de-7074-4f4f-891a-39a01b8fbd33",
   "metadata": {},
   "outputs": [],
   "source": []
  },
  {
   "cell_type": "code",
   "execution_count": 63,
   "id": "d6091e71-8ecf-4c3b-ae9e-b4cb5dc2edcb",
   "metadata": {},
   "outputs": [
    {
     "name": "stdout",
     "output_type": "stream",
     "text": [
      "['01', '00']\n"
     ]
    }
   ],
   "source": [
    "sentence13 = re.findall (r'\\d{2}-\\d{2}-\\d{2}(\\d{2})', 'Ahmad BIT(IS) 15-05-2001, Johnny BCS(SE) 20-08-2000')\n",
    "print (sentence13) \n",
    " \n",
    "# To display the date in the format of dd-mm-yy or yy\n"
   ]
  },
  {
   "cell_type": "code",
   "execution_count": 64,
   "id": "e3c8610a-dd17-470f-80df-ddc2fa300897",
   "metadata": {},
   "outputs": [
    {
     "name": "stdout",
     "output_type": "stream",
     "text": [
      "['15-05-01', '20-08-00']\n"
     ]
    }
   ],
   "source": [
    "from datetime import datetime\n",
    "\n",
    "sentence15 = re.findall (r'(\\d{2}-\\d{2}-\\d{4})', 'Ahmad BIT(IS) 15-05-2001, Johnny BCS(SE) 20-08-2000')\n",
    "formatted_dates = [datetime.strptime(match, '%d-%m-%Y').strftime('%d-%m-%y') for match in sentence15]\n",
    "print(formatted_dates)"
   ]
  },
  {
   "cell_type": "code",
   "execution_count": null,
   "id": "4cf803c5-f506-4ac8-96f6-688238fccdea",
   "metadata": {},
   "outputs": [],
   "source": []
  }
 ],
 "metadata": {
  "kernelspec": {
   "display_name": "Python 3 (ipykernel)",
   "language": "python",
   "name": "python3"
  },
  "language_info": {
   "codemirror_mode": {
    "name": "ipython",
    "version": 3
   },
   "file_extension": ".py",
   "mimetype": "text/x-python",
   "name": "python",
   "nbconvert_exporter": "python",
   "pygments_lexer": "ipython3",
   "version": "3.12.0"
  }
 },
 "nbformat": 4,
 "nbformat_minor": 5
}
