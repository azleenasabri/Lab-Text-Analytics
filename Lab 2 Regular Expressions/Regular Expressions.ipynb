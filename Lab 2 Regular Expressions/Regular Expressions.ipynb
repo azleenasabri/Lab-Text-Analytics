{
 "cells": [
  {
   "cell_type": "code",
   "execution_count": 1,
   "id": "5bdc34cb-cfb8-4741-a5c9-fba1c6bf5068",
   "metadata": {},
   "outputs": [],
   "source": [
    "import re"
   ]
  },
  {
   "cell_type": "code",
   "execution_count": 25,
   "id": "e73f5bb0-9b5d-49db-89fb-89a300cea48e",
   "metadata": {},
   "outputs": [],
   "source": [
    "# A)"
   ]
  },
  {
   "cell_type": "code",
   "execution_count": 2,
   "id": "3a8d2f82-e0c1-4475-a9ad-9c20bac63c8a",
   "metadata": {},
   "outputs": [
    {
     "name": "stdout",
     "output_type": "stream",
     "text": [
      "<re.Match object; span=(0, 1), match='I'>\n"
     ]
    }
   ],
   "source": [
    "# re.match() => to check for a match at the beginning of a string\n",
    "\n",
    "sentence1 = re.match(r'I', 'I am learning text analytics')\n",
    "print (sentence1)\n"
   ]
  },
  {
   "cell_type": "code",
   "execution_count": 3,
   "id": "e6e55966-dfc2-43be-85e4-06e04807813b",
   "metadata": {},
   "outputs": [],
   "source": [
    "# The output shows a match because the letter 'I' is at the beginning of the string"
   ]
  },
  {
   "cell_type": "code",
   "execution_count": 4,
   "id": "d7374e8c-9426-4857-b1f7-55355519b7f6",
   "metadata": {},
   "outputs": [
    {
     "name": "stdout",
     "output_type": "stream",
     "text": [
      "None\n"
     ]
    }
   ],
   "source": [
    "sentence2 = re.match(r'y', 'I am learning text analytics')\n",
    "print(sentence2)\n"
   ]
  },
  {
   "cell_type": "code",
   "execution_count": 5,
   "id": "f3ba775a-c551-461b-a412-2b8ebb10da3c",
   "metadata": {},
   "outputs": [],
   "source": [
    "# The output shows NONE because the letter 'v' does not exist at the beginning of the string"
   ]
  },
  {
   "cell_type": "code",
   "execution_count": 10,
   "id": "1c824006-2701-4358-9410-1daa43267ebc",
   "metadata": {},
   "outputs": [
    {
     "name": "stdout",
     "output_type": "stream",
     "text": [
      "None\n"
     ]
    }
   ],
   "source": [
    "sentence3 = re.match(r'am', 'I am learning text analytics')\n",
    "print(sentence3)\n"
   ]
  },
  {
   "cell_type": "code",
   "execution_count": 8,
   "id": "c1f10919-dc0d-4f4b-89fa-d889d32d3e2b",
   "metadata": {},
   "outputs": [],
   "source": [
    "# The output shows NONE because the word 'am' does not exist at the beginning of the string"
   ]
  },
  {
   "cell_type": "code",
   "execution_count": null,
   "id": "264e36fd-f3fb-43b4-b527-40c8518e4cc2",
   "metadata": {},
   "outputs": [],
   "source": []
  },
  {
   "cell_type": "code",
   "execution_count": 26,
   "id": "5db0476c-dc61-4fa3-84ba-06e3741620f6",
   "metadata": {},
   "outputs": [],
   "source": [
    "# B)"
   ]
  },
  {
   "cell_type": "code",
   "execution_count": 17,
   "id": "e4f5fe15-9076-493f-82e2-020d6bb5c0c7",
   "metadata": {},
   "outputs": [
    {
     "name": "stdout",
     "output_type": "stream",
     "text": [
      "<re.Match object; span=(2, 4), match='am'>\n"
     ]
    }
   ],
   "source": [
    "# re.search() => to check for a match regardless of the location\n",
    "# both re.match() & re.search() will return the first match found only\n",
    "\n",
    "sentence4 = re.search(r'am', 'I am learning text analytics')\n",
    "print(sentence4)\n"
   ]
  },
  {
   "cell_type": "code",
   "execution_count": 18,
   "id": "d8742339-e630-4b45-b02f-525b4ebe3685",
   "metadata": {},
   "outputs": [],
   "source": [
    "# the output shows a MATCH because the word 'am' exist in the string"
   ]
  },
  {
   "cell_type": "code",
   "execution_count": 19,
   "id": "9ab8d2d4-fb3b-44ac-b829-679c07944d32",
   "metadata": {},
   "outputs": [
    {
     "name": "stdout",
     "output_type": "stream",
     "text": [
      "<re.Match object; span=(2, 4), match='am'>\n"
     ]
    }
   ],
   "source": [
    "sentence5 = re.search(r'am', 'I am learning text analytics and am enjoying it')\n",
    "print(sentence5)\n"
   ]
  },
  {
   "cell_type": "code",
   "execution_count": 20,
   "id": "10b2c7fa-69e5-41cd-85d8-140ee99ed095",
   "metadata": {},
   "outputs": [],
   "source": [
    "# The output is similar with previous example eventhough there are 2 'am' in the string\n",
    "# However, re.search() only returns the first match of 'am' in the string"
   ]
  },
  {
   "cell_type": "code",
   "execution_count": null,
   "id": "e779212e-300c-4a9c-ba85-0e59e6785f17",
   "metadata": {},
   "outputs": [],
   "source": []
  },
  {
   "cell_type": "code",
   "execution_count": 27,
   "id": "9c550494-95a0-49c8-ba15-35a33332d9a0",
   "metadata": {},
   "outputs": [],
   "source": [
    "# C)"
   ]
  },
  {
   "cell_type": "code",
   "execution_count": 21,
   "id": "27d40e95-60e2-4ed6-a8c7-1c26a4b8a4b1",
   "metadata": {},
   "outputs": [
    {
     "name": "stdout",
     "output_type": "stream",
     "text": [
      "['am', 'am']\n"
     ]
    }
   ],
   "source": [
    "#re.findall() => to find all of the match in a string\n",
    "\n",
    "sentence6 = re.findall(r'am', 'I am learning text analytics and am enjoying it')\n",
    "print(sentence6)\n"
   ]
  },
  {
   "cell_type": "code",
   "execution_count": 22,
   "id": "c2e3b882-a22e-4ca7-863c-c21e8bf4a39b",
   "metadata": {},
   "outputs": [],
   "source": [
    "# The output shows ['am', 'am'] because there are two (2) 'am' in the string "
   ]
  },
  {
   "cell_type": "code",
   "execution_count": null,
   "id": "3bb6e88c-101e-4b4a-be28-e9c868e38266",
   "metadata": {},
   "outputs": [],
   "source": []
  },
  {
   "cell_type": "code",
   "execution_count": 28,
   "id": "924b0449-33a1-46c0-8723-35c7fca001ad",
   "metadata": {},
   "outputs": [],
   "source": [
    "# D)"
   ]
  },
  {
   "cell_type": "code",
   "execution_count": 23,
   "id": "d1424039-4d38-4456-9cb2-495394b155bb",
   "metadata": {},
   "outputs": [
    {
     "name": "stdout",
     "output_type": "stream",
     "text": [
      "['I am learning text analytics ', ' am enjoying it']\n"
     ]
    }
   ],
   "source": [
    "# re.split() => to split a string by the match of a given pattern\n",
    "\n",
    "sentence7 = re.split(r'and', 'I am learning text analytics and am enjoying it')  \n",
    "print (sentence7)  \n"
   ]
  },
  {
   "cell_type": "code",
   "execution_count": 24,
   "id": "e252e161-535b-41d4-8985-719f9be26521",
   "metadata": {},
   "outputs": [],
   "source": [
    "# The string is split into two (2) by the pattern 'and'"
   ]
  },
  {
   "cell_type": "code",
   "execution_count": 29,
   "id": "fb38d5d3-e1a2-46a0-9176-8ac92a3a91dc",
   "metadata": {},
   "outputs": [
    {
     "name": "stdout",
     "output_type": "stream",
     "text": [
      "['I ', ' learning text analytics and ', ' enjoying it']\n"
     ]
    }
   ],
   "source": [
    "sentence8 = re.split(r'am', 'I am learning text analytics and am enjoying it')  \n",
    "print (sentence8)  \n"
   ]
  },
  {
   "cell_type": "code",
   "execution_count": 30,
   "id": "cf685a95-b43c-4c52-b1d5-f9d6587d822b",
   "metadata": {},
   "outputs": [],
   "source": [
    "# The string is split into three (3) by the pattern 'am'"
   ]
  },
  {
   "cell_type": "code",
   "execution_count": 31,
   "id": "e5bc1f06-a262-4270-a009-1873adc166b1",
   "metadata": {},
   "outputs": [
    {
     "name": "stdout",
     "output_type": "stream",
     "text": [
      "['I ', ' learning text analytics and am enjoying it']\n"
     ]
    }
   ],
   "source": [
    "sentence9 = re.split(r'am', 'I am learning text analytics and am enjoying it', maxsplit=1) \n",
    "print (sentence9)  \n"
   ]
  },
  {
   "cell_type": "code",
   "execution_count": 33,
   "id": "deb8d69d-99d4-40ec-bd01-24f7c8b1c401",
   "metadata": {},
   "outputs": [],
   "source": [
    "# By including the argument maxsplit = 1 (default value is zero), \n",
    "# the string is split into two (2) by the first occurrence of 'am'"
   ]
  },
  {
   "cell_type": "code",
   "execution_count": 34,
   "id": "6172a3ca-f534-478e-8c1a-b8e16bf4f39e",
   "metadata": {},
   "outputs": [
    {
     "name": "stdout",
     "output_type": "stream",
     "text": [
      "['I ', ' learning text analytics and ', ' enjoying it']\n"
     ]
    }
   ],
   "source": [
    "sentence9 = re.split(r'am', 'I am learning text analytics and am enjoying it', maxsplit=2) \n",
    "print (sentence9)  \n"
   ]
  },
  {
   "cell_type": "code",
   "execution_count": 35,
   "id": "1a040008-cdf8-4b54-a4b0-5df773e020fb",
   "metadata": {},
   "outputs": [],
   "source": [
    "# By including the argument maxsplit = 2 (default value is zero), \n",
    "# the string is split into three (3) by the first two occurrences of 'am'"
   ]
  },
  {
   "cell_type": "code",
   "execution_count": 36,
   "id": "5cd92c77-b554-42d3-a814-62a77fc41b8d",
   "metadata": {},
   "outputs": [
    {
     "name": "stdout",
     "output_type": "stream",
     "text": [
      "['I ', ' learning text analytics, I ', ' enjoying it and I ', ' going to ace it']\n"
     ]
    }
   ],
   "source": [
    "sentence10 = re.split(r'am', 'I am learning text analytics, I am enjoying it and I am going to ace it', maxsplit=3) \n",
    "print (sentence10)  \n"
   ]
  },
  {
   "cell_type": "code",
   "execution_count": 37,
   "id": "8819eda7-9ac3-4726-b095-33283810a397",
   "metadata": {},
   "outputs": [],
   "source": [
    "# By including the argument maxsplit = 3 (default value is zero), \n",
    "# the string is split into four (4) by the first three occurrences of 'am'"
   ]
  },
  {
   "cell_type": "code",
   "execution_count": null,
   "id": "48873fd1-2a47-4977-aed9-2ea99dbb81d9",
   "metadata": {},
   "outputs": [],
   "source": []
  },
  {
   "cell_type": "code",
   "execution_count": 38,
   "id": "f0a71323-8172-4d00-b387-863df063908a",
   "metadata": {},
   "outputs": [],
   "source": [
    "# E)"
   ]
  },
  {
   "cell_type": "code",
   "execution_count": 39,
   "id": "8bf99fae-ed8f-458b-aeed-dda2dbfbc8d2",
   "metadata": {},
   "outputs": [
    {
     "name": "stdout",
     "output_type": "stream",
     "text": [
      "we like text analytics and we enjoy learning it\n"
     ]
    }
   ],
   "source": [
    "# re.sub() => to find the match of a given pattern in a string and replace with a new value\n",
    "\n",
    "sentence11 = re.sub(r'I', 'we', 'I like text analytics and I enjoy learning it') \n",
    "print (sentence11)  \n"
   ]
  },
  {
   "cell_type": "code",
   "execution_count": 40,
   "id": "cf613745-821b-4bf9-b921-821be35284ad",
   "metadata": {},
   "outputs": [],
   "source": [
    "# The word ' I ' is changed to 'we' and are replaced in two (2) occurrences"
   ]
  },
  {
   "cell_type": "code",
   "execution_count": null,
   "id": "e7841f97-8559-4bb9-8a01-b00be1a3c491",
   "metadata": {},
   "outputs": [],
   "source": []
  }
 ],
 "metadata": {
  "kernelspec": {
   "display_name": "Python 3 (ipykernel)",
   "language": "python",
   "name": "python3"
  },
  "language_info": {
   "codemirror_mode": {
    "name": "ipython",
    "version": 3
   },
   "file_extension": ".py",
   "mimetype": "text/x-python",
   "name": "python",
   "nbconvert_exporter": "python",
   "pygments_lexer": "ipython3",
   "version": "3.12.0"
  }
 },
 "nbformat": 4,
 "nbformat_minor": 5
}
