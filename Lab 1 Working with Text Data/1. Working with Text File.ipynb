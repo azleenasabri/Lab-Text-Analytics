{
 "cells": [
  {
   "cell_type": "code",
   "execution_count": 6,
   "id": "c3f86890-8e62-4c97-a12c-88b899cb0f83",
   "metadata": {},
   "outputs": [],
   "source": [
    "my_file = open('test.txt')"
   ]
  },
  {
   "cell_type": "code",
   "execution_count": 7,
   "id": "255b44cc-d850-4b3e-afa5-7c4b4954bd60",
   "metadata": {},
   "outputs": [
    {
     "data": {
      "text/plain": [
       "'Hello, this is a quick test file.\\nThis is the second line of the file.'"
      ]
     },
     "execution_count": 7,
     "metadata": {},
     "output_type": "execute_result"
    }
   ],
   "source": [
    "my_file.read()"
   ]
  },
  {
   "cell_type": "code",
   "execution_count": 8,
   "id": "94c94b86-9346-4b33-9d76-3be241461c59",
   "metadata": {},
   "outputs": [
    {
     "data": {
      "text/plain": [
       "''"
      ]
     },
     "execution_count": 8,
     "metadata": {},
     "output_type": "execute_result"
    }
   ],
   "source": [
    "my_file.read()"
   ]
  },
  {
   "cell_type": "code",
   "execution_count": 9,
   "id": "82bc177b-2e40-4dc9-8234-92fe26369bba",
   "metadata": {},
   "outputs": [
    {
     "data": {
      "text/plain": [
       "0"
      ]
     },
     "execution_count": 9,
     "metadata": {},
     "output_type": "execute_result"
    }
   ],
   "source": [
    "my_file.seek(0)"
   ]
  },
  {
   "cell_type": "code",
   "execution_count": 10,
   "id": "58c2922e-dc7b-4dd5-b3be-e92d173bec68",
   "metadata": {},
   "outputs": [
    {
     "data": {
      "text/plain": [
       "'Hello, this is a quick test file.\\nThis is the second line of the file.'"
      ]
     },
     "execution_count": 10,
     "metadata": {},
     "output_type": "execute_result"
    }
   ],
   "source": [
    "my_file.read()"
   ]
  },
  {
   "cell_type": "code",
   "execution_count": 11,
   "id": "7e115523-4ad7-43e6-8d19-a89af6df38de",
   "metadata": {},
   "outputs": [
    {
     "data": {
      "text/plain": [
       "['Hello, this is a quick test file.\\n', 'This is the second line of the file.']"
      ]
     },
     "execution_count": 11,
     "metadata": {},
     "output_type": "execute_result"
    }
   ],
   "source": [
    "my_file.seek(0)\n",
    "my_file.readlines()"
   ]
  },
  {
   "cell_type": "code",
   "execution_count": 12,
   "id": "51d75ba5-779d-4e09-af33-052e75b37975",
   "metadata": {},
   "outputs": [],
   "source": [
    "my_file.close()"
   ]
  },
  {
   "cell_type": "code",
   "execution_count": 13,
   "id": "d437eaf8-54d1-40e4-9db8-35558f4f0b7f",
   "metadata": {},
   "outputs": [],
   "source": [
    "my_file = open('test.txt', 'w+')"
   ]
  },
  {
   "cell_type": "code",
   "execution_count": 14,
   "id": "7708bbd6-9403-4660-80ab-d5e40816f56f",
   "metadata": {},
   "outputs": [
    {
     "data": {
      "text/plain": [
       "24"
      ]
     },
     "execution_count": 14,
     "metadata": {},
     "output_type": "execute_result"
    }
   ],
   "source": [
    "my_file.write('This is a new first line')"
   ]
  },
  {
   "cell_type": "code",
   "execution_count": 16,
   "id": "416c9713-c933-4483-99a7-d73b15ee166e",
   "metadata": {},
   "outputs": [
    {
     "data": {
      "text/plain": [
       "'This is a new first line'"
      ]
     },
     "execution_count": 16,
     "metadata": {},
     "output_type": "execute_result"
    }
   ],
   "source": [
    "my_file.seek(0)\n",
    "my_file.read()"
   ]
  },
  {
   "cell_type": "code",
   "execution_count": 17,
   "id": "15d347e9-e566-4cff-a1db-c452eeaaf8ce",
   "metadata": {},
   "outputs": [],
   "source": [
    "my_file.close()"
   ]
  },
  {
   "cell_type": "code",
   "execution_count": 18,
   "id": "c69c21a9-1b31-42ab-a352-e8e3cf3a8004",
   "metadata": {},
   "outputs": [
    {
     "data": {
      "text/plain": [
       "23"
      ]
     },
     "execution_count": 18,
     "metadata": {},
     "output_type": "execute_result"
    }
   ],
   "source": [
    "my_file = open('test.txt', 'a+')\n",
    "my_file.write('\\nThis line is being appended to test.txt')\n",
    "my_file.write('\\nAnd another line here.')"
   ]
  },
  {
   "cell_type": "code",
   "execution_count": 19,
   "id": "addcb8ef-4b7a-4219-a934-61b32a79520f",
   "metadata": {},
   "outputs": [
    {
     "name": "stdout",
     "output_type": "stream",
     "text": [
      "This is a new first line\n",
      "This line is being appended to test.txt\n",
      "And another line here.\n"
     ]
    }
   ],
   "source": [
    "my_file.seek(0)\n",
    "print(my_file.read())"
   ]
  },
  {
   "cell_type": "code",
   "execution_count": 20,
   "id": "844bb48c-6116-45e2-8ad2-5a64a780094a",
   "metadata": {},
   "outputs": [],
   "source": [
    "my_file.close()"
   ]
  },
  {
   "cell_type": "code",
   "execution_count": 21,
   "id": "0526213b-6e71-4b43-8fac-88a7bd69373d",
   "metadata": {},
   "outputs": [
    {
     "name": "stdout",
     "output_type": "stream",
     "text": [
      "This is a new first line\n",
      "This line is being appended to test.txt\n",
      "And another line here."
     ]
    }
   ],
   "source": [
    "with open('test.txt', 'r') as txt:\n",
    "    for line in txt:\n",
    "        print(line, end='')"
   ]
  },
  {
   "cell_type": "code",
   "execution_count": null,
   "id": "431ca0f2-1dd1-4ef3-81d6-3b7ee3e3de0c",
   "metadata": {},
   "outputs": [],
   "source": []
  }
 ],
 "metadata": {
  "kernelspec": {
   "display_name": "Python 3 (ipykernel)",
   "language": "python",
   "name": "python3"
  },
  "language_info": {
   "codemirror_mode": {
    "name": "ipython",
    "version": 3
   },
   "file_extension": ".py",
   "mimetype": "text/x-python",
   "name": "python",
   "nbconvert_exporter": "python",
   "pygments_lexer": "ipython3",
   "version": "3.12.0"
  }
 },
 "nbformat": 4,
 "nbformat_minor": 5
}
